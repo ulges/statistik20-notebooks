{
 "cells": [
  {
   "attachments": {
    "hsrmlogo.png": {
     "image/png": "[encoded data removed]"
    }
   },
   "cell_type": "markdown",
   "metadata": {},
   "source": [
    " # Least Squares <img src=\"attachment:hsrmlogo.png\" width=\"10%\" align=\"right\">\n",
    "In diesem Notebook werden wir lineare Regression (least squares) implementieren und auf die Auto-Daten anwenden, um Gebrauchtwagenpreise auf EBay vorherzusagen."
   ]
  },
  {
   "cell_type": "markdown",
   "metadata": {},
   "source": [
    "## 1. Implementierung\n",
    "\n",
    "Implementieren Sie eine Methode *leastsquares()*, die gemäß der Formel aus der Vorlesung die Parameter $(a,b)$ einer Ausgleichsgerade ermittelt und zurückliefert.\n",
    "Ihre Methode erhält mit x und y zwei Numpy-Arrays der Länge $n$ mit den x- und y-Koordinaten der gegebenen Stichprobe.\n",
    "\n",
    "*Hinweis: Sie benötigen Kennwerte wie Mittelwert oder Varianz. Verwenden Sie hierzu numpy-Methoden wie mean() und var().*\n"
   ]
  },
  {
   "cell_type": "code",
   "execution_count": null,
   "metadata": {},
   "outputs": [],
   "source": [
    "import numpy as np\n",
    "\n",
    "def leastsquares(x,y):\n",
    "    # FIXME\n",
    "    return a,b\n"
   ]
  },
  {
   "cell_type": "markdown",
   "metadata": {},
   "source": [
    "## 2. Kleiner Test\n",
    "Wir verwenden zunächst eine kleine Stichprobe: \n",
    "$$(x_1,y_1), ..., (x_4,y_4) = (1,1), (2,2), (3,5), (4,7).\n",
    "$$\n",
    "Testen Sie Ihre Methode *leastsquares()*, indem Sie sie auf die Daten anwenden und dann Daten und Gerade mit der Funktion *plot()* plotten."
   ]
  },
  {
   "cell_type": "code",
   "execution_count": null,
   "metadata": {},
   "outputs": [],
   "source": [
    "import matplotlib.pyplot as plt\n",
    "\n",
    "def plot(x, y, a, b):\n",
    "    \"\"\" \n",
    "          ! DO NOT TOUCH !\n",
    "\n",
    "          This method plots the 2D point cloud (x,y) in red, \n",
    "          and the fitted line (a,b) in orange.\n",
    "    \"\"\"\n",
    "    plt.plot(x, y, 'o', color='red', markersize=5)\n",
    "    xmin = np.min(x)-1\n",
    "    xmax = np.max(x)+1\n",
    "    ymin = np.min(y)-1\n",
    "    ymax = np.max(y)+1    \n",
    "    plt.axis([xmin,xmax,ymin,ymax]) # set range to plot\n",
    "    xticks = np.arange(xmin, xmax, (xmax-xmin)/1000.)\n",
    "    plt.plot(xticks, a*xticks+b, '-', color='orange')\n",
    "    \n",
    "    plt.grid(True)\n",
    "    plt.show()    \n",
    "    \n",
    "x = np.array([1,2,3,4])\n",
    "y = np.array([1,2,5,7])\n",
    "# FIXME"
   ]
  },
  {
   "cell_type": "markdown",
   "metadata": {},
   "source": [
    "## 3. Autodaten laden\n",
    "Laden Sie die bekannten Autodaten 'cars.csv'. Führen Sie hierzu die nächste Zelle aus *(es ist keine Änderung am Code nötig!)*."
   ]
  },
  {
   "cell_type": "code",
   "execution_count": null,
   "metadata": {},
   "outputs": [],
   "source": [
    "import pandas\n",
    "\n",
    "cars = pandas.read_csv('cars.csv')\n",
    "\n",
    "# Wir geben die Namen der Spalten/Merkmale aus.\n",
    "columns = cars.columns\n",
    "for i,col in enumerate(columns):\n",
    "    print('%.2d : %s' %(i,col))\n",
    "    \n",
    "# Wir konvertieren die Daten in ein Numpy-Array.\n",
    "data = cars.values.astype('float')\n",
    "\n",
    "# Wir filtern alle Autos die teurer als 50.000 EUR sind.\n",
    "data = data[data[:,0]<50000,:]\n",
    "# Wir filtern alle Autos die billiger als 1.000 EUR sind.\n",
    "data = data[data[:,0]>=1000,:]"
   ]
  },
  {
   "cell_type": "markdown",
   "metadata": {},
   "source": [
    "## 4. Autopreise vorhersagen\n",
    "Verwenden Sie nun Ihr Least-Squares-Modell, um den *Preis* eines Autos vorherzusagen, gegeben den *Kilometerstand*. \n",
    "* Extrahieren Sie hierzu beide Spalten aus der Matrix *data* und rufen Sie leastsquares() auf, um die Parameter $a$ und $b$ zu bestimmen.\n",
    "* Ermitteln Sie dann für die ersten zehn Autos die Vorhersage Ihres Modells und vergleichen Sie sie mit den echten Preisen.\n",
    "\n",
    "Wirken die Ergebnisse (halbwegs) plausibel?"
   ]
  },
  {
   "cell_type": "code",
   "execution_count": null,
   "metadata": {},
   "outputs": [],
   "source": [
    "# FIXME"
   ]
  },
  {
   "cell_type": "markdown",
   "metadata": {},
   "source": [
    "## 5. Modell bewerten\n",
    "Schreiben Sie eine Funktion *error()*, die ermittelt um *wieviel Prozent* der echte Preis vom vorhergesagten Preis abweicht - gemittelt über alle Autos.\n",
    "Ihre Funktion erhält als Parameter die prognostizierten Preise und die echten Preise. \n",
    "Rufen Sie error() für Ihr Modell auf. Um wieviel Prozent weicht die kilometerstandsbasierte Prognose im Schnitt vom echten Preis ab?"
   ]
  },
  {
   "cell_type": "code",
   "execution_count": null,
   "metadata": {},
   "outputs": [],
   "source": [
    "def error(ypredicted, yreal):\n",
    "    # FIXME"
   ]
  },
  {
   "cell_type": "markdown",
   "metadata": {},
   "source": [
    "## 6. Merkmale vergleichen\n",
    "Versuchen Sie nun, den Preis nicht nur anhand des Kilometerstandes vorherzusagen, sondern versuchen Sie es mit *jedem* Merkmal (dem Zulassungsjahr, den PS, dem Kilometerstand, etc.). Für jedes Merkmal:\n",
    "* Bestimmen Sie die Parameter a,b, mit leastsquares()\n",
    "* Ermitteln Sie die vorhergesagten Preise\n",
    "* Geben Sie den prozentualen Fehler aus, mit error().\n",
    "\n",
    "Welches Merkmal ist das beste?"
   ]
  },
  {
   "cell_type": "code",
   "execution_count": null,
   "metadata": {},
   "outputs": [],
   "source": [
    "# FIXME"
   ]
  }
 ],
 "metadata": {
  "kernelspec": {
   "display_name": "Python 2",
   "language": "python",
   "name": "python2"
  },
  "language_info": {
   "codemirror_mode": {
    "name": "ipython",
    "version": 3
   },
   "file_extension": ".py",
   "mimetype": "text/x-python",
   "name": "python",
   "nbconvert_exporter": "python",
   "pygments_lexer": "ipython3",
   "version": "3.8.5"
  }
 },
 "nbformat": 4,
 "nbformat_minor": 1
}
